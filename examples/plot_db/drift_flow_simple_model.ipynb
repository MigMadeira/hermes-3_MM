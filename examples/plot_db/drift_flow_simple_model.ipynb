{
 "cells": [
  {
   "cell_type": "markdown",
   "id": "1f5387d1-bd47-4f80-b684-86a82073ebc4",
   "metadata": {},
   "source": [
    "# Imports"
   ]
  },
  {
   "cell_type": "code",
   "execution_count": 2,
   "id": "174946a3-a747-4650-ad2f-cf9abc1f77a5",
   "metadata": {
    "tags": []
   },
   "outputs": [],
   "source": [
    "import numpy as np\n",
    "import xarray as xr\n",
    "from scipy import constants, integrate, optimize\n",
    "%matplotlib qt5\n",
    "import matplotlib.pyplot as plt"
   ]
  },
  {
   "cell_type": "markdown",
   "id": "57026582",
   "metadata": {},
   "source": [
    "# Model without drifts"
   ]
  },
  {
   "cell_type": "markdown",
   "id": "4b718c1d-4699-41bc-a7ed-79f38bf93681",
   "metadata": {
    "tags": []
   },
   "source": [
    "##  Equations\n",
    "\n",
    "The starting equations are the 1D poloidal particle and momentum transport equations:\n",
    "\n",
    "$$\n",
    "\\begin{align}\n",
    "\\frac{\\mathop{}\\!\\mathrm{d}}{\\mathop{}\\!\\mathrm{d} y} \\left[ n \\sin(\\theta) v_\\parallel \\right] &= S_p =\n",
    "\\begin{cases}\n",
    "S_{p,\\mathrm{core}}, &\\ \\left| y \\right| < y_\\mathrm{x-point} \\\\\n",
    "-S_{p,\\mathrm{PFR}}, &\\ \\left| y \\right| \\geq y_\\mathrm{x-point}\n",
    "\\end{cases} \\\\\n",
    "\\frac{\\mathop{}\\!\\mathrm{d}}{\\mathop{}\\!\\mathrm{d} y} \\left[ n \\left( v_\\parallel^2 + c_s^2 \\right) \\right] &= 0\n",
    "\\end{align}\n",
    "$$\n",
    "\n",
    "Here $y$ represents a poloidal-angle-like variable, so $y = 0$ half-way between targets, $y = \\pm y_\\mathrm{x-point}$ at the lower/upper X-points, and $y = \\pm y_\\mathrm{divertor}$ at the lower/upper divertors; $n$ is the plasma density, where it is assumed that there are no impurities and the ion species is hydrogenic, so $n \\equiv n_i = n_e$; $\\theta$ is the field-line pitch angle, which is assumed to be constant throughout SOL; $v_\\parallel$ is the parallel plasma velocity; $S_p$ is the particle source density, which is assumed to be a positive constant throughout the portion of the SOL in contact with the core plasma and a negative constant throughout the portion of the SOL in contact with the private flux region; $c_s = \\sqrt{2 k_B T / m_i}$ is the ion sound speed, where it is assumed that the temperature $T \\equiv T_i = T_e$ is constant throughout the SOL.\n",
    "\n",
    "The general solution to the momentum transport equation is\n",
    "\n",
    "$$\n",
    "n \\left( v_\\parallel^2 + c_s^2 \\right) = B,\n",
    "$$\n",
    "\n",
    "where $B$ is a constant. The general solution to the particle transport equation changes throughout the SOL due to the discontinuous nature of $S_p$. Breaking the domain into three regions: a) where $y < -y_\\mathrm{x-point}$, b) where $y_\\mathrm{x-point} < y < -y_\\mathrm{x-point}$, and c) where $y > y_\\mathrm{x-point}$; the general solution is\n",
    "\n",
    "$$\n",
    "n v_\\parallel =\n",
    "\\begin{cases}\n",
    "-\\frac{S_{p,\\mathrm{PFR}}}{\\sin(\\theta)} y + C_a, &\\ y < -y_\\mathrm{x-point} \\\\\n",
    "\\frac{S_{p,\\mathrm{core}}}{\\sin(\\theta)} y + C_b, &\\ \\left| y \\right| < y_\\mathrm{x-point} \\\\\n",
    "-\\frac{S_{p,\\mathrm{PFR}}}{\\sin(\\theta)} y + C_c, &\\ y > y_\\mathrm{x-point}\n",
    "\\end{cases}\n",
    "$$\n",
    "\n",
    "where $C_a$, $C_b$, and $C_c$ are constants for each region. There are thus four unknowns: $B$, $C_a$, $C_b$, and $C_c$. Requiring that $n$ and $v_\\parallel$ are continuous at the boundaries between regions gives two equations, and the Bohm criterion at the lower/upper divertors gives two more equations, allowing the full system to be solved. At the lower divertor, the Bohm criterion is $v_\\parallel(-y_\\mathrm{divertor}) = -c_s$, and at the upper divertor it is $v_\\parallel(y_\\mathrm{divertor}) = c_s$. Plugging these into the momentum transport equation gives\n",
    "\n",
    "$$\n",
    "n(-y_\\mathrm{divertor}) = n(y_\\mathrm{divertor}) = \\frac{B}{2 c_s^2}.\n",
    "$$\n",
    "\n",
    "Thus, the density is the same at the upper and lower divertors. The total integrated particle source into the SOL must be equal to the particle flux to the divertors, which is given by $\\Gamma_\\mathrm{divertor} = \\left[ n(-y_\\mathrm{divertor}) + n(y_\\mathrm{divertor}) \\right] c_s \\sin(\\theta)$. The total integrated particle source is $S_p^\\mathrm{total} \\equiv \\int S_p \\mathop{}\\!\\mathrm{d} y = 2 y_\\mathrm{x-point} S_{p,\\mathrm{core}} - 2 \\left( y_\\mathrm{divertor} - y_\\mathrm{x-point} \\right) S_{p,\\mathrm{PFR}}$. Note that this model requires $S_p^\\mathrm{total} \\geq 0$, i.e., the total particle flux into the PFR cannot exceed the total particle flux from the core into the SOL. Setting $S_p^\\mathrm{total} = \\Gamma_\\mathrm{divertor}$ gives\n",
    "\n",
    "$$\n",
    "S_p^\\mathrm{total} = \\frac{B \\sin(\\theta)}{c_s} \\rightarrow B = \\frac{c_s S_p^\\mathrm{total}}{\\sin(\\theta)}.\n",
    "$$\n",
    "\n",
    "So\n",
    "\n",
    "$$\n",
    "n_\\mathrm{divertor} = \\frac{S_p^\\mathrm{total}}{2 c_s \\sin(\\theta)}.\n",
    "$$\n",
    "\n",
    "Plugging the Bohm criterion into the particle transport equations for regions a and c gives\n",
    "\n",
    "$$\n",
    "\\begin{align}\n",
    "-n_\\mathrm{divertor} c_s &= \\frac{S_{p,\\mathrm{PFR}}}{\\sin(\\theta)} y_\\mathrm{divertor} + C_a, \\\\\n",
    "n_\\mathrm{divertor} c_s &= -\\frac{S_{p,\\mathrm{PFR}}}{\\sin(\\theta)} y_\\mathrm{divertor} + C_c.\n",
    "\\end{align}\n",
    "$$\n",
    "\n",
    "Yielding\n",
    "\n",
    "$$\n",
    "\\begin{align}\n",
    "C_a &= -n_\\mathrm{divertor} c_s - \\frac{S_{p,\\mathrm{PFR}}}{\\sin(\\theta)} y_\\mathrm{divertor}, \\\\\n",
    "C_c &= n_\\mathrm{divertor} c_s + \\frac{S_{p,\\mathrm{PFR}}}{\\sin(\\theta)} y_\\mathrm{divertor}.\n",
    "\\end{align}\n",
    "$$\n",
    "\n",
    "Now we apply the interface condition that $n$ and $v_\\parallel$ are continuous at the boundaries between regions. At the boundary between regions a and b this yields\n",
    "\n",
    "$$\n",
    "\\begin{align}\n",
    "n(-y_\\mathrm{x-point}) \\, v_\\parallel(-y_\\mathrm{x-point}) &= -\\frac{S_{p,\\mathrm{PFR}}}{\\sin(\\theta)} (y_\\mathrm{divertor} - y_\\mathrm{x-point}) - n_\\mathrm{divertor} c_s, \\\\\n",
    "n(-y_\\mathrm{x-point}) \\, v_\\parallel(-y_\\mathrm{x-point}) &= -\\frac{S_{p,\\mathrm{core}}}{\\sin(\\theta)} y_\\mathrm{x-point} + C_b.\n",
    "\\end{align}\n",
    "$$\n",
    "\n",
    "Subtracting these equations yields\n",
    "\n",
    "$$\n",
    "\\begin{align}\n",
    "C_b &= \\frac{S_{p,\\mathrm{core}}}{\\sin(\\theta)} y_\\mathrm{x-point} -\\frac{S_{p,\\mathrm{PFR}}}{\\sin(\\theta)} (y_\\mathrm{divertor} - y_\\mathrm{x-point}) - n_\\mathrm{divertor} c_s, \\\\\n",
    "&= \\frac{1}{2 \\sin(\\theta)} \\left[ 2 S_{p,\\mathrm{core}} y_\\mathrm{x-point} - 2 S_{p,\\mathrm{PFR}} (y_\\mathrm{divertor} - y_\\mathrm{x-point}) \\right] - n_\\mathrm{divertor} c_s, \\\\\n",
    "&= \\frac{S_p^\\mathrm{total}}{2 \\sin(\\theta)} - n_\\mathrm{divertor} c_s, \\\\\n",
    "&= 0.\n",
    "\\end{align}\n",
    "$$\n",
    "\n",
    "One could also conclude that $C_b = 0$ from the up/down symmetry of the system.\n",
    "\n",
    "The final model equations are then\n",
    "\n",
    "$$\n",
    "\\begin{align}\n",
    "n \\left( v_\\parallel^2 + c_s^2 \\right) &= \\frac{c_s S_p^\\mathrm{total}}{\\sin(\\theta)}, \\\\\n",
    "n v_\\parallel &=\n",
    "\\begin{cases}\n",
    "-\\frac{S_{p,\\mathrm{PFR}}}{\\sin(\\theta)} (y + y_\\mathrm{divertor}) - n_\\mathrm{divertor} c_s, &\\ y < -y_\\mathrm{x-point}, \\\\\n",
    "\\frac{S_{p,\\mathrm{core}}}{\\sin(\\theta)} y, &\\ \\left| y \\right| < y_\\mathrm{x-point}, \\\\\n",
    "-\\frac{S_{p,\\mathrm{PFR}}}{\\sin(\\theta)} (y - y_\\mathrm{divertor}) + n_\\mathrm{divertor} c_s, &\\ y > y_\\mathrm{x-point},\n",
    "\\end{cases} \\\\\n",
    "\\end{align}\n",
    "$$\n",
    "\n",
    "where\n",
    "\n",
    "$$\n",
    "\\begin{align}\n",
    "S_p^\\mathrm{total} &= 2 y_\\mathrm{x-point} S_{p,\\mathrm{core}} - 2 \\left( y_\\mathrm{divertor} - y_\\mathrm{x-point} \\right) S_{p,\\mathrm{PFR}}, \\\\\n",
    "n_\\mathrm{divertor} &= \\frac{S_p^\\mathrm{total}}{2 c_s \\sin(\\theta)}.\n",
    "\\end{align}\n",
    "$$\n",
    "\n",
    "These implicit equations are nasty to solve explicitly for $n$ and $v_\\parallel$, so below they are solved numerically. In this model $v_\\parallel = 0$ at $y = 0$, which is also the location of maximum density, $n_\\mathrm{max} = 2 n_\\mathrm{divertor}$."
   ]
  },
  {
   "cell_type": "markdown",
   "id": "14e3ee8a-d7e2-45ee-8491-86c4fdcd042b",
   "metadata": {},
   "source": [
    "## Explicit calculation"
   ]
  },
  {
   "cell_type": "code",
   "execution_count": 3,
   "id": "892b84e0-dfe9-4a40-a819-9829a3c1cad1",
   "metadata": {},
   "outputs": [],
   "source": [
    "y = np.linspace(-1, 1, num=201) # poloidal angle variable runs from -1 (lower divertor) to +1 (upper divertor)\n",
    "y_xpoint = 0.75 # relative distance of x-points from upstream position to divertors\n",
    "field_line_pitch_angle = 0.001 # radians, this is not actually needed for this calculation since I treat the downstream_density as an input parameter\n",
    "ion_mass = constants.proton_mass # kilograms\n",
    "temperature = 50 # electron-volts\n",
    "downstream_density = 2e18 # particles per cubic meter, I use this as an input parameter instead of core particle source since I have more intuition on what numbers are reasonable\n",
    "\n",
    "ion_sound_speed = np.sqrt(2*temperature * constants.e / ion_mass)\n",
    "y_norm = y / y_xpoint\n",
    "parallel_velocity = np.zeros_like(y)\n",
    "density = np.zeros_like(y)\n",
    "\n",
    "# solution in region below lower X-point\n",
    "below_xpoint = y_norm <= -1\n",
    "parallel_velocity[below_xpoint] = -ion_sound_speed\n",
    "density[below_xpoint] = downstream_density\n",
    "\n",
    "# solution in region above upper X-point\n",
    "above_xpoint = y_norm >= 1\n",
    "parallel_velocity[above_xpoint] = ion_sound_speed\n",
    "density[above_xpoint] = downstream_density\n",
    "\n",
    "# solution in region between X-points\n",
    "between_xpoints = np.logical_and(y_norm > -1, y_norm < 1)\n",
    "root = np.where(y_norm[between_xpoints] > 0, -1, 1) # parallel velocity calculation requires different roots on either side of y=0\n",
    "with np.errstate(divide='ignore'): # ignore runtime warnings caused by division by zero at y=0\n",
    "    parallel_velocity[between_xpoints] = ion_sound_speed * ((1 / y_norm[between_xpoints]) + root * np.sqrt((1 / (y_norm[between_xpoints]**2)) - 1))\n",
    "    density[between_xpoints] = downstream_density * y_norm[between_xpoints] * ion_sound_speed / parallel_velocity[between_xpoints]\n",
    "\n",
    "# solution at y=0 needs to be hard-coded since general expression is indeterminate at y=0\n",
    "parallel_velocity[y_norm == 0] = 0\n",
    "density[y_norm == 0] = 2 * downstream_density"
   ]
  },
  {
   "cell_type": "markdown",
   "id": "bd7349f0-cf4f-47a2-991c-56af77652854",
   "metadata": {},
   "source": [
    "## Implicit calculation"
   ]
  },
  {
   "cell_type": "code",
   "execution_count": 8,
   "id": "6760254e-663d-4494-afce-5132a7de9015",
   "metadata": {},
   "outputs": [],
   "source": [
    "# Inputs\n",
    "y = np.linspace(-1, 1, num=201) # poloidal angle variable runs from -1 (lower divertor) to +1 (upper divertor)\n",
    "y_xpoint = 0.75 # relative distance of x-points from upstream position to divertors\n",
    "field_line_pitch_angle = 0.001 # radians\n",
    "ion_mass = constants.proton_mass # kilograms\n",
    "temperature = 50 # electron-volts\n",
    "upstream_density = 1e19 # particles per cubic meter, I use this as an input parameter instead of core particle source since I have more intuition on what numbers are reasonable\n",
    "particle_loss_fraction = 0 # this number quantifies how many of the particles sourced from the core are lost to the PFR before reaching the divertor, it must be equal to 0 because model breaks down otherwise\n",
    "ion_sound_speed = np.sqrt(2*temperature * constants.e / ion_mass)\n",
    "\n",
    "# Equation definitions\n",
    "def transport_equations(density, parallel_velocity, y, ion_sound_speed, field_line_pitch_angle, upstream_density, particle_loss_fraction):\n",
    "    \"\"\"Note: in these equations density is normalized by the upstream density and parallel velocity is normalized by the ion sound speed to improve numerical stability of the solver\"\"\"\n",
    "    core_particle_source = upstream_density * ion_sound_speed * np.sin(field_line_pitch_angle) / (2 * y_xpoint * (1 - particle_loss_fraction))\n",
    "    pfr_particle_sink = particle_loss_fraction * core_particle_source * y_xpoint / (1 - y_xpoint)\n",
    "    if y < -y_xpoint:\n",
    "        particle_transport_equation = density * parallel_velocity + pfr_particle_sink * (y + 1) / (np.sin(field_line_pitch_angle) * upstream_density * ion_sound_speed) + 1 / 2\n",
    "    elif y > y_xpoint:\n",
    "        particle_transport_equation = density * parallel_velocity + pfr_particle_sink * (y - 1) / (np.sin(field_line_pitch_angle) * upstream_density * ion_sound_speed) - 1 / 2\n",
    "    else: # between X-points\n",
    "        particle_transport_equation = density * parallel_velocity - core_particle_source * y / (np.sin(field_line_pitch_angle) * upstream_density * ion_sound_speed)\n",
    "    momentum_transport_equation = density * (parallel_velocity**2 + 1) - 1\n",
    "    return [\n",
    "        particle_transport_equation,\n",
    "        momentum_transport_equation,\n",
    "    ]\n",
    "\n",
    "# Numerically solve the system of implicit equations individually at each position\n",
    "parallel_velocity = np.zeros_like(y)\n",
    "density = np.zeros_like(y)\n",
    "solution_found = np.zeros_like(y)\n",
    "solver_message = []\n",
    "for i in range(len(y)):\n",
    "    (density[i], parallel_velocity[i]), _, solution_found[i], mesg  = optimize.fsolve(\n",
    "        func=lambda x : transport_equations(x[0], x[1], y[i], ion_sound_speed, field_line_pitch_angle, upstream_density, particle_loss_fraction),\n",
    "        x0=[1, -1],\n",
    "        full_output=True,\n",
    "    )\n",
    "    solver_message.append(mesg)\n",
    "density[solution_found != 1] = np.nan\n",
    "parallel_velocity[solution_found != 1] = np.nan\n",
    "\n",
    "# Un-normalize the output\n",
    "density = density * upstream_density\n",
    "parallel_velocity = parallel_velocity * ion_sound_speed"
   ]
  },
  {
   "cell_type": "markdown",
   "id": "4cf2cf1a-ad71-4a18-b44c-28c36f73690d",
   "metadata": {},
   "source": [
    "## Plot density and parallel flow profiles"
   ]
  },
  {
   "cell_type": "code",
   "execution_count": 9,
   "id": "cd2f943d-5204-4942-8e41-84783f647a75",
   "metadata": {},
   "outputs": [
    {
     "name": "stdout",
     "output_type": "stream",
     "text": [
      "9.999999999999711e+18\n"
     ]
    },
    {
     "name": "stderr",
     "output_type": "stream",
     "text": [
      "qt.glx: qglx_findConfig: Failed to finding matching FBConfig for QSurfaceFormat(version 2.0, options QFlags<QSurfaceFormat::FormatOption>(), depthBufferSize -1, redBufferSize 1, greenBufferSize 1, blueBufferSize 1, alphaBufferSize -1, stencilBufferSize -1, samples -1, swapBehavior QSurfaceFormat::SingleBuffer, swapInterval 1, colorSpace QSurfaceFormat::DefaultColorSpace, profile  QSurfaceFormat::NoProfile)\n",
      "No XVisualInfo for format QSurfaceFormat(version 2.0, options QFlags<QSurfaceFormat::FormatOption>(), depthBufferSize -1, redBufferSize 1, greenBufferSize 1, blueBufferSize 1, alphaBufferSize -1, stencilBufferSize -1, samples -1, swapBehavior QSurfaceFormat::SingleBuffer, swapInterval 1, colorSpace QSurfaceFormat::DefaultColorSpace, profile  QSurfaceFormat::NoProfile)\n",
      "Falling back to using screens root_visual.\n"
     ]
    }
   ],
   "source": [
    "fig, ax1 = plt.subplots(constrained_layout=True)\n",
    "ax2 = ax1.twinx()\n",
    "ax1.set_xticks([-1, -y_xpoint, 0, y_xpoint, 1])\n",
    "ax1.set_xticklabels(['lower divertor', 'lower X-point', '0', 'upper X-point', 'upper divertor'], minor=False, rotation=45)\n",
    "ax1.set_xlabel('y')\n",
    "ax1.set_title('Profiles in absence of drifts')\n",
    "\n",
    "ax1.plot(y, parallel_velocity, color='tab:blue')\n",
    "# ax1.axhline(0, linestyle='--')\n",
    "ax1.set_yticks([-ion_sound_speed, 0, ion_sound_speed])\n",
    "ax1.set_yticklabels(['$-c_s$', '0', '$c_s$'], minor=False)\n",
    "ax1.tick_params(axis='y', labelcolor='tab:blue')\n",
    "ax1.set_ylabel(r'Parallel velocity', color='tab:blue')\n",
    "\n",
    "ax2.plot(y, density, color='tab:red')\n",
    "ax2.set_ylim(bottom=0)\n",
    "ax2.set_yticks([0, upstream_density / 2, upstream_density])\n",
    "ax2.set_yticklabels(['0', '$n_d$', '$2 n_d$'], minor=False)\n",
    "ax2.tick_params(axis='y', labelcolor='tab:red')\n",
    "ax2.set_ylabel('Density', color='tab:red');\n",
    "\n",
    "print(max(density))\n",
    "np.save(\"Kriete_density\", density)\n",
    "np.save(\"Kriete_parallel_velocity\", parallel_velocity)\n",
    "np.save(\"Kriete_y\", y)"
   ]
  },
  {
   "cell_type": "markdown",
   "id": "cc42d8b5",
   "metadata": {},
   "source": [
    "# Model with drifts"
   ]
  },
  {
   "cell_type": "markdown",
   "id": "e3995051",
   "metadata": {},
   "source": [
    "## Starting equations"
   ]
  },
  {
   "cell_type": "markdown",
   "id": "48fd5ecd",
   "metadata": {},
   "source": [
    "The starting equations are the 1D poloidal particle and momentum transport equations:\n",
    "\n",
    "$$\n",
    "\\begin{align}\n",
    "\\frac{\\mathop{}\\!\\mathrm{d}}{\\mathop{}\\!\\mathrm{d} y} \\left[ n \\sin(\\theta) v_\\parallel + n \\cos(\\theta) v_\\perp \\right] &= S_p =\n",
    "\\begin{cases}\n",
    "S_{p,\\mathrm{core}}, &\\ \\left| y \\right| < y_\\mathrm{x-point} \\\\\n",
    "S_{p,\\mathrm{PFR}}, &\\ \\left| y \\right| \\geq y_\\mathrm{x-point}\n",
    "\\end{cases} \\\\\n",
    "\\frac{\\mathop{}\\!\\mathrm{d}}{\\mathop{}\\!\\mathrm{d} y} \\left[ n \\left( v_\\parallel^2 + \\frac{v_\\parallel v_\\perp}{\\tan(\\theta)} + c_s^2 \\right) \\right] &= 0\n",
    "\\end{align}\n",
    "$$\n",
    "\n",
    "Here $y$ represents a poloidal-angle-like variable, so $y = 0$ half-way between targets, $y = \\pm y_\\mathrm{x-point}$ at the lower/upper X-points, and $y = \\pm y_\\mathrm{divertor}$ at the lower/upper divertors; $n$ is the plasma density, where it is assumed that there are no impurities and the ion species is hydrogenic, so $n \\equiv n_i = n_e$; $\\theta$ is the field-line pitch angle, which is assumed to be constant throughout SOL; $v_\\parallel$ is the parallel plasma velocity; $v_\\perp$ is the binormal $E \\times B$ drift velocity, which is assumed to be constant throughout the SOL; $S_p$ is the particle source density; $c_s = \\sqrt{2 k_B T / m_i}$ is the ion sound speed, where it is assumed that the temperature $T \\equiv T_i = T_e$ is constant throughout the SOL (because the model applies only to the sheath-limited regime).\n",
    "\n",
    "$S_p$ is assumed to be a positive constant throughout the portion of the SOL in contact with the core plasma. Ideally it would also have a negative term accounting for transport into the PFR throughout the portion of the SOL between the X-point and divertor. However, my attempts so far to have a nonzero particle \"sink\" into the PFR has resulted in equations that have no solution throughout parts of the SOL due to $v_\\parallel$ going supersonic. The form of the PFR particle sink is given by Y. Feng et al. PPCF 1998:\n",
    "$$\n",
    "S_{p,\\mathrm{PFR}} = -D \\frac{n}{\\Delta_r \\lambda_n},\n",
    "$$\n",
    "where $D$ is the diffusion coefficient, $\\Delta_r$ is the island radial width (on the order of 10 cm for W7-X), $\\lambda_n$ is the density gradient scale length. In the sheath-limited regime, $\\lambda_n$ can be estimated using\n",
    "$$\n",
    "\\lambda_n = \\sqrt{\\frac{2 D L_c}{c_s}},\n",
    "$$\n",
    "where $L_c$ is the connection length."
   ]
  },
  {
   "cell_type": "markdown",
   "id": "8f112879",
   "metadata": {},
   "source": [
    "## Solving the equations (assuming zero particle \"sink\" from transport into PFR)"
   ]
  },
  {
   "cell_type": "markdown",
   "id": "63e2f8d3",
   "metadata": {},
   "source": [
    "The general solution to the momentum transport equation is\n",
    "\n",
    "$$\n",
    "n \\left( v_\\parallel^2 + \\frac{v_\\parallel v_\\perp}{\\tan(\\theta)} + c_s^2 \\right) = B,\n",
    "$$\n",
    "\n",
    "where $B$ is a constant. The general solution to the particle transport equation changes throughout the SOL due to the discontinuous nature of $S_p$. Breaking the domain into three regions: a) where $y < -y_\\mathrm{x-point}$, b) where $y_\\mathrm{x-point} < y < -y_\\mathrm{x-point}$, and c) where $y > y_\\mathrm{x-point}$; the general solution is\n",
    "\n",
    "$$\n",
    "n \\sin(\\theta) v_\\parallel + n \\cos(\\theta) v_\\perp =\n",
    "\\begin{cases}\n",
    "C_a, &\\ y < -y_\\mathrm{x-point} \\\\\n",
    "S_{p,\\mathrm{core}} y + C_b, &\\ \\left| y \\right| < y_\\mathrm{x-point} \\\\\n",
    "C_c, &\\ y > y_\\mathrm{x-point}\n",
    "\\end{cases}\n",
    "$$\n",
    "\n",
    "where $C_a$, $C_b$, and $C_c$ are constants for each region. There are thus four unknowns: $B$, $C_a$, $C_b$, and $C_c$. Requiring that $n$ and $v_\\parallel$ are continuous at the boundaries between regions gives two equations, and the Bohm criterion at the lower/upper divertors gives two more equations, allowing the full system to be solved.\n",
    "\n",
    "The Bohm criterion (accounting for modification due to the drift flow) is $v_\\parallel(-y_\\mathrm{divertor}) = -c_s - v_\\perp / \\tan(\\theta)$ at the lower divertor and $v_\\parallel(y_\\mathrm{divertor}) = c_s - v_\\perp / \\tan(\\theta)$ at the upper divertor [see I. Hutchinson, PoP 3, 6-7 (1996)]. Plugging these into the momentum transport equation gives\n",
    "\n",
    "$$\n",
    "\\begin{align}\n",
    "B &= n_{-d} \\left[ \\left( -c_s - \\frac{v_\\perp}{\\tan(\\theta)} \\right)^2 + \\frac{v_\\perp}{\\tan(\\theta)} \\left( -c_s - \\frac{v_\\perp}{\\tan(\\theta)} \\right) + c_s^2 \\right], \\\\\n",
    "&= n_{-d} \\left( c_s^2 + \\frac{2 v_\\perp c_s}{\\tan(\\theta)} + \\frac{v_\\perp^2}{\\tan^2(\\theta)} - \\frac{v_\\perp c_s}{\\tan(\\theta)} - \\frac{v_\\perp^2}{\\tan^2(\\theta)} + c_s^2 \\right), \\\\\n",
    "&= n_{-d} \\left( 2 c_s^2 + \\frac{v_\\perp c_s}{\\tan(\\theta)} \\right), \\\\\n",
    "&= 2 c_s^2 n_{-d} \\left(1 + \\gamma \\right),\n",
    "\\end{align}\n",
    "$$\n",
    "\n",
    "at the lower divertor, and\n",
    "\n",
    "$$\n",
    "\\begin{align}\n",
    "B &= n_{+d} \\left[ \\left( c_s - \\frac{v_\\perp}{\\tan(\\theta)} \\right)^2 + \\frac{v_\\perp}{\\tan(\\theta)} \\left( c_s - \\frac{v_\\perp}{\\tan(\\theta)} \\right) + c_s^2 \\right], \\\\\n",
    "&= n_{+d} \\left( c_s^2 - \\frac{2 v_\\perp c_s}{\\tan(\\theta)} + \\frac{v_\\perp^2}{\\tan^2(\\theta)} + \\frac{v_\\perp c_s}{\\tan(\\theta)} - \\frac{v_\\perp^2}{\\tan^2(\\theta)} + c_s^2 \\right), \\\\\n",
    "&= n_{+d} \\left( 2 c_s^2 - \\frac{v_\\perp c_s}{\\tan(\\theta)} \\right), \\\\\n",
    "&= 2 c_s^2 n_{+d} \\left(1 - \\gamma \\right),\n",
    "\\end{align}\n",
    "$$\n",
    "\n",
    "at the upper divertor, where we have defined $n_{-d} \\equiv n(-y_\\mathrm{divertor})$, $n_{+d} \\equiv n(y_\\mathrm{divertor})$, and $\\gamma = v_\\perp / \\left( 2 c_s \\tan(\\theta) \\right)$. We now have an important result: there is a density asymmetry caused by drifts between the upper and lower divertors, which is given by\n",
    "\n",
    "$$\n",
    "\\boxed{ \\frac{n_{+d}}{n_{-d}} = \\frac{1 + \\gamma}{1 - \\gamma} }.\n",
    "$$\n",
    "\n",
    "Plugging the Bohm criterion into the particle transport equation gives\n",
    "\n",
    "$$\n",
    "\\begin{align}\n",
    "C_a &= n_{-d} \\left[ \\sin(\\theta) \\left( -c_s - \\frac{v_\\perp}{\\tan(\\theta)} \\right) + \\cos(\\theta) v_\\perp \\right], \\\\\n",
    "&= n_{-d} \\left( -c_s \\sin(\\theta) - \\cos(\\theta) v_\\perp + \\cos(\\theta) v_\\perp \\right), \\\\\n",
    "&= -n_{-d} c_s \\sin(\\theta),\n",
    "\\end{align}\n",
    "$$\n",
    "\n",
    "at the lower divertor, and \n",
    "\n",
    "$$\n",
    "\\begin{align}\n",
    "C_c &= n_{+d} \\left[ \\sin(\\theta) \\left( c_s - \\frac{v_\\perp}{\\tan(\\theta)} \\right) + \\cos(\\theta) v_\\perp \\right], \\\\\n",
    "&= n_{+d} \\left( c_s \\sin(\\theta) - \\cos(\\theta) v_\\perp + \\cos(\\theta) v_\\perp \\right), \\\\\n",
    "&= n_{+d} c_s \\sin(\\theta),\n",
    "\\end{align}\n",
    "$$\n",
    "\n",
    "at the upper divertor.\n",
    "\n",
    "The total integrated particle source into the SOL must be equal to the particle flux to the divertors, which is given by $\\Gamma_\\mathrm{divertor} = \\left( n_{-d} + n_{+d} \\right) c_s \\sin(\\theta)$. The total integrated particle source is $S_p^\\mathrm{total} \\equiv \\int S_p \\mathop{}\\!\\mathrm{d} y = 2 y_\\mathrm{x-point} S_{p,\\mathrm{core}}$. Setting $S_p^\\mathrm{total} = \\Gamma_\\mathrm{divertor}$ gives\n",
    "\n",
    "$$\n",
    "\\begin{align}\n",
    "S_p^\\mathrm{total} &= \\left( n_{-d} + n_{+d} \\right) c_s \\sin(\\theta), \\\\\n",
    "S_p^\\mathrm{total} &= n_{-d} \\left( 1 + \\frac{1 + \\gamma}{1 - \\gamma} \\right) c_s \\sin(\\theta), \\\\\n",
    "S_p^\\mathrm{total} &= n_{-d} \\left( \\frac{1 - \\gamma}{1 - \\gamma} + \\frac{1 + \\gamma}{1 - \\gamma} \\right) c_s \\sin(\\theta), \\\\\n",
    "S_p^\\mathrm{total} &= \\frac{2 n_{-d} c_s \\sin(\\theta)}{1 - \\gamma}. \\\\\n",
    "\\end{align}\n",
    "$$\n",
    "\n",
    "So,\n",
    "\n",
    "$$\n",
    "\\begin{align}\n",
    "n_{+d} &= \\frac{S_p^\\mathrm{total}}{2 c_s \\sin(\\theta)} \\left( 1 + \\gamma \\right), \\\\\n",
    "n_{-d} &= \\frac{S_p^\\mathrm{total}}{2 c_s \\sin(\\theta)} \\left( 1 - \\gamma \\right), \\\\\n",
    "B &= \\frac{c_s S_p^\\mathrm{total}}{\\sin(\\theta)} \\left( 1 - \\gamma^2 \\right), \\\\\n",
    "C_a &= -\\frac{S_p^\\mathrm{total}}{2} \\left( 1 - \\gamma \\right), \\\\\n",
    "C_c &= \\frac{S_p^\\mathrm{total}}{2} \\left( 1 + \\gamma \\right).\n",
    "\\end{align}\n",
    "$$\n",
    "\n",
    "Now we apply the interface condition that $n$ and $v_\\parallel$ are continuous at the boundaries between regions. At the boundary between regions a and b (the lower X-point) this yields\n",
    "\n",
    "$$\n",
    "\\begin{align}\n",
    "n(-y_\\mathrm{x-point}) \\sin(\\theta) v_\\parallel(-y_\\mathrm{x-point}) + n(-y_\\mathrm{x-point}) \\cos(\\theta) v_\\perp &= -n_{-d} c_s \\sin(\\theta), \\\\\n",
    "n(-y_\\mathrm{x-point}) \\sin(\\theta) v_\\parallel(-y_\\mathrm{x-point}) + n(-y_\\mathrm{x-point}) \\cos(\\theta) v_\\perp &= -S_{p,\\mathrm{core}} y_\\mathrm{x-point} + C_b.\n",
    "\\end{align}\n",
    "$$\n",
    "\n",
    "Subtracting these equations yields\n",
    "\n",
    "$$\n",
    "\\begin{align}\n",
    "C_b &= S_{p,\\mathrm{core}} y_\\mathrm{x-point} - n_{-d} c_s \\sin(\\theta), \\\\\n",
    "&= \\frac{S_p^\\mathrm{total}}{2} - \\frac{S_p^\\mathrm{total}}{2 c_s \\sin(\\theta)} \\left( 1 - \\gamma \\right) c_s \\sin(\\theta), \\\\\n",
    "&= \\frac{S_p^\\mathrm{total}}{2} - \\frac{S_p^\\mathrm{total}}{2} \\left( 1 - \\gamma \\right), \\\\\n",
    "&= \\frac{S_p^\\mathrm{total}}{2} \\left(1 - 1 + \\gamma \\right), \\\\\n",
    "&= \\frac{S_p^\\mathrm{total}}{2} \\gamma.\n",
    "\\end{align}\n",
    "$$"
   ]
  },
  {
   "cell_type": "markdown",
   "id": "08587b46",
   "metadata": {},
   "source": [
    "## Equation solutions"
   ]
  },
  {
   "cell_type": "markdown",
   "id": "ff0ff42c",
   "metadata": {},
   "source": [
    "The solved particle and momentum transport equations are thus\n",
    "\n",
    "$$\n",
    "\\begin{align}\n",
    "n \\sin(\\theta) v_\\parallel + n \\cos(\\theta) v_\\perp &=\n",
    "\\begin{cases}\n",
    "-\\left( 1 - \\gamma \\right) S_p^\\mathrm{total} / 2, &\\ y < -y_\\mathrm{x-point}, \\\\\n",
    "\\left(y / y_\\mathrm{x-point} + \\gamma \\right) S_p^\\mathrm{total} / 2, &\\ \\left| y \\right| \\leq y_\\mathrm{x-point}, \\\\\n",
    "\\left( 1 + \\gamma \\right) S_p^\\mathrm{total} / 2, &\\ y > y_\\mathrm{x-point}, \\\\\n",
    "\\end{cases} \\\\\n",
    "n \\left( v_\\parallel^2 + \\frac{v_\\parallel v_\\perp}{\\tan(\\theta)} + c_s^2 \\right) &= \\frac{c_s S_p^\\mathrm{total}}{\\sin(\\theta)} \\left( 1 - \\gamma^2 \\right), \\\\\n",
    "\\end{align}\n",
    "$$\n",
    "\n",
    "where $S_p^\\mathrm{total} = 2 y_\\mathrm{x-point} S_{p,\\mathrm{core}}$ and $\\gamma = v_\\perp / (2 c_s \\tan(\\theta))$. These implicit equations are nasty to solve explicitly for $n$ and $v_\\parallel$, so they are numerically solved below.\n",
    "\n",
    "The solutions can also be written in terms of normalized variables $M_\\parallel = v_\\parallel / c_s$, $n_* = n / n_\\mathrm{max}$, and $y_* = y / y_\\mathrm{x-point}$, which makes them much more compact and conditions the equations so that they can be numerically solved without ill-conditioning problems. The normalized solutions are\n",
    "\n",
    "$$\n",
    "\\begin{align}\n",
    "n_* \\left( M_\\parallel + 2 \\gamma \\right) &= \\frac{1}{2}\n",
    "\\begin{cases}\n",
    "-\\left( 1 - \\gamma \\right), &\\ y_* < -1, \\\\\n",
    "\\left(y_* + \\gamma \\right), &\\ \\left| y_* \\right| \\leq 1, \\\\\n",
    "\\left( 1 + \\gamma \\right), &\\ y_* > 1, \\\\\n",
    "\\end{cases} \\\\\n",
    "n_* \\left( M_\\parallel^2 + 2 \\gamma M_\\parallel + 1 \\right) &= \\left( 1 - \\gamma^2 \\right). \\\\\n",
    "\\end{align}\n",
    "$$"
   ]
  },
  {
   "cell_type": "markdown",
   "id": "2746d45a",
   "metadata": {},
   "source": [
    "## Insights extracted from solutions"
   ]
  },
  {
   "cell_type": "markdown",
   "id": "27a803c3",
   "metadata": {},
   "source": [
    "### Upper/lower divertor density asymmetry\n",
    "\n",
    "One key prediction of this model is the ratio of upper divertor density to lower divertor density:\n",
    "\n",
    "$$\n",
    "\\boxed{ \\frac{n_{+d}}{n_{-d}} = \\frac{1 + \\gamma}{1 - \\gamma} }.\n",
    "$$"
   ]
  },
  {
   "cell_type": "markdown",
   "id": "90bb11c8",
   "metadata": {},
   "source": [
    "### Shift of the parallel flow stagnation point\n",
    "\n",
    "The parallel flow stagnation point is the point where $v_\\parallel = 0$. When there are no drifts, this point is at the symmetry position half-way between targets ($y = 0$), which is also the location of maximum density. Drifts shift this point poloidally.\n",
    "\n",
    "The density, $n_s$, at the parallel flow stagnation point is easily obtained from the solved momentum transport equation, giving\n",
    "\n",
    "$$\n",
    "\\boxed{ n_s = \\frac{S_p^\\mathrm{total}}{c_s \\sin(\\theta)} \\left( 1 - \\gamma^2 \\right) }.\n",
    "$$\n",
    "\n",
    "The poloidal position of the parallel flow stagnation point is now found from the solution of the particle transport equation between X-points:\n",
    "\n",
    "$$\n",
    "\\begin{align}\n",
    "n_s \\cos(\\theta) v_\\perp &= \\frac{S_p^\\mathrm{total}}{2} \\left(y_s / y_\\mathrm{x-point} + \\gamma \\right), \\\\\n",
    "\\frac{S_p^\\mathrm{total}}{c_s \\sin(\\theta)} \\left( 1 - \\gamma^2 \\right) \\cos(\\theta) v_\\perp &= \\frac{S_p^\\mathrm{total}}{2} \\left(y_s / y_\\mathrm{x-point} + \\gamma \\right), \\\\\n",
    "2 \\gamma S_p^\\mathrm{total} \\left( 1 - \\gamma^2 \\right) &= \\frac{S_p^\\mathrm{total}}{2} \\left(y_s / y_\\mathrm{x-point} + \\gamma \\right), \\\\\n",
    "4 \\gamma - 4 \\gamma^3 &= \\left(y_s / y_\\mathrm{x-point} + \\gamma \\right), \\\\\n",
    "y_s / y_\\mathrm{x-point} &= -4 \\gamma^3 + 3 \\gamma, \\\\\n",
    "y_s / y_\\mathrm{x-point} &= \\gamma \\left( 3 - 4 \\gamma^2 \\right),\n",
    "\\end{align}\n",
    "$$\n",
    "\n",
    "so,\n",
    "\n",
    "$$\n",
    "\\boxed{ y_s / y_\\mathrm{x-point} = \\gamma \\left( \\sqrt{3} + 2 \\gamma \\right) \\left( \\sqrt{3} - 2 \\gamma \\right)}.\n",
    "$$\n",
    "\n",
    "This equation implies $\\left| \\gamma \\right|$ cannot exceed $1/2$, since for this value of the drift strength the stagnation point has moved all the way to the X-point. Since $\\left| \\gamma \\right| < 1$, $y_s / y_\\mathrm{x-point} \\sim 3 \\gamma$, i.e., the stagnation point shifts poloidally three times faster with increasing drift strength than the maximum density location shifts."
   ]
  },
  {
   "cell_type": "markdown",
   "id": "48642d39",
   "metadata": {},
   "source": [
    "### Shift of the location where density is maximum\n",
    "\n",
    "Note that the stagnation point is not the location of maximum density when drifts are present (as it is in the absence of drifts). The maximum density in this model has the same value as in the no-drift model:\n",
    "\n",
    "$$\n",
    "\\boxed{ n_\\mathrm{max} = \\frac{S_p^\\mathrm{total}}{c_s \\sin(\\theta)} }.\n",
    "$$\n",
    "\n",
    "This can be shown by expanding the momentum transport equation:\n",
    "\n",
    "$$\n",
    "\\begin{align}\n",
    "\\frac{\\mathop{}\\!\\mathrm{d}}{\\mathop{}\\!\\mathrm{d} y} \\left[ n \\left( v_\\parallel^2 + \\frac{v_\\parallel v_\\perp}{\\tan(\\theta)} + c_s^2 \\right) \\right] &= 0, \\\\\n",
    "\\frac{\\mathop{}\\!\\mathrm{d} n}{\\mathop{}\\!\\mathrm{d} y} \\left( v_\\parallel^2 + \\frac{v_\\parallel v_\\perp}{\\tan(\\theta)} + c_s^2 \\right) + n \\frac{\\mathop{}\\!\\mathrm{d}}{\\mathop{}\\!\\mathrm{d} y} \\left[ v_\\parallel^2 + \\frac{v_\\parallel v_\\perp}{\\tan(\\theta)} + c_s^2 \\right] &= 0. \\\\\n",
    "\\end{align}\n",
    "$$\n",
    "\n",
    "Setting $\\frac{\\mathop{}\\!\\mathrm{d} n}{\\mathop{}\\!\\mathrm{d} y} = 0$ and solving for the parallel velocity at the location of maximum density, $v_{\\parallel,n_\\mathrm{max}}$, gives\n",
    "\n",
    "$$\n",
    "\\begin{align}\n",
    "\\left. \\frac{\\mathop{}\\!\\mathrm{d}}{\\mathop{}\\!\\mathrm{d} y} \\left[ v_\\parallel^2 + \\frac{v_\\parallel v_\\perp}{\\tan(\\theta)} + c_s^2 \\right] \\right|_{n_\\mathrm{max}} &= 0, \\\\\n",
    "\\left( 2 v_{\\parallel,n_\\mathrm{max}} + \\frac{v_\\perp}{\\tan(\\theta)} \\right) \\left. \\frac{\\mathop{}\\!\\mathrm{d} v_\\parallel}{\\mathop{}\\!\\mathrm{d} y} \\right|_{n_\\mathrm{max}} &= 0. \\\\\n",
    "\\end{align}\n",
    "$$\n",
    "\n",
    "So at the location of maximum density, either the flow acceleration is zero or $v_{\\parallel,n_\\mathrm{max}} = -\\gamma c_s$. The flow acceleration is zero beyond the X-points but is non-zero between X-points. Plugging $v_{\\parallel,n_\\mathrm{max}} = -\\gamma c_s$ into the momentum transport equation solution to find $n_\\mathrm{max}$ between X-points gives\n",
    "\n",
    "$$\n",
    "\\begin{align}\n",
    "n_\\mathrm{max} \\left( \\gamma^2 c_s^2 - \\frac{\\gamma c_s v_\\perp}{\\tan(\\theta)} + c_s^2 \\right) &= \\frac{c_s S_p^\\mathrm{total}}{\\sin(\\theta)} \\left( 1 - \\gamma^2 \\right), \\\\\n",
    "n_\\mathrm{max} \\left( \\gamma^2 c_s^2 - 2 \\gamma^2 c_s^2 + c_s^2 \\right) &= \\frac{c_s S_p^\\mathrm{total}}{\\sin(\\theta)} \\left( 1 - \\gamma^2 \\right), \\\\\n",
    "n_\\mathrm{max} c_s^2 \\left( 1 - \\gamma^2 \\right) &= \\frac{c_s S_p^\\mathrm{total}}{\\sin(\\theta)} \\left( 1 - \\gamma^2 \\right), \\\\\n",
    "n_\\mathrm{max} &= \\frac{S_p^\\mathrm{total}}{c_s \\sin(\\theta)}. \\\\\n",
    "\\end{align}\n",
    "$$\n",
    "\n",
    "And at this point\n",
    "\n",
    "$$\n",
    "\\boxed{ v_{\\parallel,n_\\mathrm{max}} = -\\gamma c_s }.\n",
    "$$\n",
    "\n",
    "The poloidal position of this maximum density point $y_{n_\\mathrm{max}}$ can be found by plugging $n_\\mathrm{max}$ into the particle transport equation solution between X-points:\n",
    "\n",
    "$$\n",
    "\\begin{align}\n",
    "n_\\mathrm{max} \\left[ \\sin(\\theta) v_{\\parallel,n_\\mathrm{max}} + \\cos(\\theta) v_\\perp \\right] &= \\frac{S_p^\\mathrm{total}}{2} \\left(y_{n_\\mathrm{max}} / y_\\mathrm{x-point} + \\gamma \\right), \\\\\n",
    "\\frac{S_p^\\mathrm{total}}{c_s \\sin(\\theta)} \\left[ -\\gamma c_s \\sin(\\theta) + \\cos(\\theta) v_\\perp \\right] &= \\frac{S_p^\\mathrm{total}}{2} \\left(y_{n_\\mathrm{max}} / y_\\mathrm{x-point} + \\gamma \\right), \\\\\n",
    "-\\gamma + \\frac{v_\\perp}{c_s \\tan(\\theta)} &= \\frac{1}{2} \\left(y_{n_\\mathrm{max}} / y_\\mathrm{x-point} + \\gamma \\right), \\\\\n",
    "-\\gamma + 2 \\gamma &= \\frac{1}{2} \\left(y_{n_\\mathrm{max}} / y_\\mathrm{x-point} + \\gamma \\right), \\\\\n",
    "2 \\gamma &= y_{n_\\mathrm{max}} / y_\\mathrm{x-point} + \\gamma, \\\\\n",
    "\\end{align}\n",
    "$$\n",
    "\n",
    "so,\n",
    "\n",
    "$$\n",
    "\\boxed{ y_{n_\\mathrm{max}} / y_\\mathrm{x-point} = \\gamma }.\n",
    "$$"
   ]
  },
  {
   "cell_type": "markdown",
   "id": "476b5f90-5e09-49d9-a0a2-c28f1810184b",
   "metadata": {
    "tags": []
   },
   "source": [
    "### Location where net poloidal flow is zero\n",
    "\n",
    "At some poloidal location the net poloidal flow, i.e. the poloidal projections of the parallel flow and drift flow, will be zero. This point is highly relevant for impurity transport, since at this location impurities would not be flushed to the target but would remain in place and could build up to high density, making diffusive radial transport strong. This poloidal location could then be the an effective \"leakage\" channel by which impurities could escape entrainment near the targets and migrate into the confined plasma.\n",
    "\n",
    "The net poloidal flow is $v_y = \\sin(\\theta) v_\\parallel + \\cos(\\theta) v_\\perp$. Setting this to zero and plugging into the solution of the particle transport equation between X-points gives\n",
    "\n",
    "$$\n",
    "\\begin{align}\n",
    "0 &= \\frac{S_p^\\mathrm{total}}{2} \\left(y_\\mathrm{pol,stag} / y_\\mathrm{x-point} + \\gamma \\right), \\\\\n",
    "\\end{align}\n",
    "$$\n",
    "\n",
    "so,\n",
    "$$\n",
    "\\boxed{ y_{\\mathrm{pol,stag}} / y_\\mathrm{x-point} = -\\gamma }.\n",
    "$$\n",
    "\n",
    "Thus, the net poloidal flow stagnation point shifts poloidally in the *opposite* direction as the drift.\n",
    "\n",
    "The parallel flow velocity at this point is $v_{\\parallel,\\mathrm{pol,stag}} = -2 c_s \\gamma$ and the density at this point is $n_\\mathrm{pol,stag} = n_\\mathrm{max} \\left( 1 - \\gamma^2 \\right)$."
   ]
  },
  {
   "cell_type": "markdown",
   "id": "4901dd44-e781-45ab-bf36-6366fa8da1aa",
   "metadata": {},
   "source": [
    "## Routine for solving simple SOL drift model differential equations"
   ]
  },
  {
   "cell_type": "markdown",
   "id": "3c1ede99",
   "metadata": {},
   "source": [
    "### Input parameters"
   ]
  },
  {
   "cell_type": "code",
   "execution_count": 9,
   "id": "cf0cb75e-5f09-4d79-94a4-29e7145a3245",
   "metadata": {
    "tags": []
   },
   "outputs": [],
   "source": [
    "# Input parameters\n",
    "y_divertor = 0.32 # poloidal position in meters of divertors\n",
    "y_xpoint = 0.16 # poloidal position in meters of X-points\n",
    "num_points = 201 # number of mesh node points\n",
    "drift_velocity = 100 # meters per second\n",
    "field_line_pitch_angle = 0.001 # radians\n",
    "ion_mass = constants.proton_mass # kilograms\n",
    "temperature = 80 # electron-volts\n",
    "separatrix_density = 1e19 # particles per cubic meter, I use this as an input parameter instead of core particle source since I have more intuition on what numbers are reasonable\n",
    "diffusion_coefficient = 1 # Diffusion coefficient for anomalous particle transport in meters squared per second\n",
    "island_width = 0.1 # Radial island width in meters\n",
    "magnetic_field = 2.5 # Magnetic field in teslas; positive for forward field, negative for reverse field\n",
    "\n",
    "# Derived input parameters\n",
    "y_norm = np.linspace(-y_divertor, y_divertor, num=num_points) / y_xpoint # Poloidal position normalized by X-point position\n",
    "ion_sound_speed = np.sqrt(2 * temperature * constants.e / ion_mass)\n",
    "connection_length = 2 * y_divertor / np.sin(field_line_pitch_angle) # This simple relation will underestimate real connection length because pitch angle is not actually constant (it decreases near X-point)\n",
    "density_decay_length = np.sqrt(2 * diffusion_coefficient * connection_length / ion_sound_speed) # Characteristic exponential decay length of the density in meters (Stangeby textbook Eq. 4.7)\n",
    "gamma = drift_velocity / (2 * ion_sound_speed * np.tan(field_line_pitch_angle))"
   ]
  },
  {
   "cell_type": "code",
   "execution_count": 3,
   "id": "c3b04786",
   "metadata": {},
   "outputs": [
    {
     "data": {
      "text/plain": [
       "0.4038811310867017"
      ]
     },
     "execution_count": 3,
     "metadata": {},
     "output_type": "execute_result"
    }
   ],
   "source": [
    "gamma"
   ]
  },
  {
   "cell_type": "markdown",
   "id": "2ecc55b4",
   "metadata": {},
   "source": [
    "### Solve equations"
   ]
  },
  {
   "cell_type": "code",
   "execution_count": 10,
   "id": "d3fd7ea5-d2f9-4088-896e-ee85e35ec4fa",
   "metadata": {
    "tags": []
   },
   "outputs": [
    {
     "data": {
      "text/plain": [
       "       message: The maximum number of mesh nodes is exceeded.\n",
       "       success: False\n",
       "        status: 1\n",
       "             x: [-2.000e+00 -1.980e+00 ...  1.980e+00  2.000e+00]\n",
       "           sol: <scipy.interpolate._interpolate.PPoly object at 0x154d82b877e0>\n",
       "             p: None\n",
       "             y: [[ 2.960e-01  2.960e-01 ...  6.953e-01  6.953e-01]\n",
       "                 [-1.808e+00 -1.808e+00 ...  1.922e-01  1.922e-01]]\n",
       "            yp: [[ 0.000e+00  0.000e+00 ...  0.000e+00  0.000e+00]\n",
       "                 [ 0.000e+00  0.000e+00 ...  0.000e+00  0.000e+00]]\n",
       " rms_residuals: [ 0.000e+00  0.000e+00 ...  0.000e+00  0.000e+00]\n",
       "         niter: 9"
      ]
     },
     "execution_count": 10,
     "metadata": {},
     "output_type": "execute_result"
    }
   ],
   "source": [
    "def transport_diff_equations(density, parallel_velocity, y_norm, gamma):\n",
    "    \n",
    "    # Calculate the coefficients in front of the density and velocity derivative terms for the particle and momentum transport equations\n",
    "    A = parallel_velocity**2 + 2*gamma*parallel_velocity + 1\n",
    "    B = 2*density*(parallel_velocity + gamma)\n",
    "    C = parallel_velocity + 2*gamma\n",
    "    D = density\n",
    "\n",
    "    # Define normalized particle source\n",
    "    source = np.zeros_like(y_norm)\n",
    "    source[(y_norm >= -1) & (y_norm <= 1)] = 1/2 # particle source is non-zero only between X-points\n",
    "\n",
    "    # Calculate derivatives of density and parallel velocity w.r.t. poloidal position\n",
    "    denom = D - B * C / A\n",
    "    density_derivative = np.divide(-source * (B / A), denom, out=np.zeros_like(source), where=~np.isclose(denom, 0))\n",
    "    parallel_velocity_derivative = np.divide(source, denom, out=np.zeros_like(source), where=~np.isclose(denom, 0))\n",
    "\n",
    "    return np.array([density_derivative, parallel_velocity_derivative])\n",
    "\n",
    "def boundary_condition_residual(density_lower_divertor, parallel_velocity_lower_divertor, density_upper_divertor, parallel_velocity_upper_divertor, gamma):\n",
    "    bohm_criterion_lower_divertor = -2*gamma - 1\n",
    "    bohm_criterion_upper_divertor = -2*gamma + 1\n",
    "    return np.array([parallel_velocity_lower_divertor - bohm_criterion_lower_divertor, parallel_velocity_upper_divertor - bohm_criterion_upper_divertor])\n",
    "\n",
    "# initial_guess_solution = np.stack((np.ones_like(y_norm), np.linspace(-1, 1, num=len(y_norm)))) # Guess that density is 1 everywhere and flow profile is linear with sonic flow at targets\n",
    "initial_guess_solution = np.stack((np.ones_like(y_norm), np.linspace(-1 - 2*gamma, 1 - 2*gamma, num=len(y_norm)))) # Guess that density is 1 everywhere and flow profile is linear satisfying target BCs\n",
    "\n",
    "solution = integrate.solve_bvp(\n",
    "    fun=lambda x, y : transport_diff_equations(y[0, :], y[1, :], x, gamma),\n",
    "    bc=lambda ya, yb : boundary_condition_residual(ya[0], ya[1], yb[0], yb[1], gamma),\n",
    "    x=y_norm,\n",
    "    y=initial_guess_solution,\n",
    "    # max_nodes=100000,\n",
    ")\n",
    "\n",
    "solution"
   ]
  },
  {
   "cell_type": "markdown",
   "id": "c5d070eb-7a30-43a8-ae30-daff9f9a0021",
   "metadata": {},
   "source": [
    "### Plot solution"
   ]
  },
  {
   "cell_type": "code",
   "execution_count": 11,
   "id": "33014c47-d051-4b50-ae94-bbd3c1e97512",
   "metadata": {
    "tags": []
   },
   "outputs": [
    {
     "name": "stderr",
     "output_type": "stream",
     "text": [
      "qt.glx: qglx_findConfig: Failed to finding matching FBConfig for QSurfaceFormat(version 2.0, options QFlags<QSurfaceFormat::FormatOption>(), depthBufferSize -1, redBufferSize 1, greenBufferSize 1, blueBufferSize 1, alphaBufferSize -1, stencilBufferSize -1, samples -1, swapBehavior QSurfaceFormat::SingleBuffer, swapInterval 1, colorSpace QSurfaceFormat::DefaultColorSpace, profile  QSurfaceFormat::NoProfile)\n",
      "No XVisualInfo for format QSurfaceFormat(version 2.0, options QFlags<QSurfaceFormat::FormatOption>(), depthBufferSize -1, redBufferSize 1, greenBufferSize 1, blueBufferSize 1, alphaBufferSize -1, stencilBufferSize -1, samples -1, swapBehavior QSurfaceFormat::SingleBuffer, swapInterval 1, colorSpace QSurfaceFormat::DefaultColorSpace, profile  QSurfaceFormat::NoProfile)\n",
      "Falling back to using screens root_visual.\n"
     ]
    }
   ],
   "source": [
    "density, parallel_velocity = solution.sol(y_norm)\n",
    "\n",
    "fig, ax = plt.subplots()\n",
    "ax.plot(y_norm, density, label='density')\n",
    "ax.plot(y_norm, parallel_velocity, label='parallel_velocity')\n",
    "ax.set_xlabel('y_norm')\n",
    "ax.legend()\n",
    "ax.set_title('Solution from numerically solved ODEs');"
   ]
  },
  {
   "cell_type": "markdown",
   "id": "40122e64-8911-431c-9ea1-15761de86a07",
   "metadata": {},
   "source": [
    "## Routine for solving simple SOL drift model implicit solution equations"
   ]
  },
  {
   "cell_type": "code",
   "execution_count": 12,
   "id": "7ca93e44-e12d-4ab5-a882-b8533f761e11",
   "metadata": {},
   "outputs": [],
   "source": [
    "def transport_equations(density, parallel_velocity, y_norm, gamma):\n",
    "    \"\"\"Note: in these equations density is normalized by the max density and parallel velocity is normalized by the ion sound speed to improve numerical stability of the solver\"\"\"\n",
    "    if y_norm < -1: # below lower X-point\n",
    "        particle_transport_equation = density * (parallel_velocity + 2 * gamma) - (gamma - 1) / 2\n",
    "    elif y_norm > 1: # above upper X-point\n",
    "        particle_transport_equation = density * (parallel_velocity + 2 * gamma) - (gamma + 1) / 2\n",
    "    else: # between X-points\n",
    "        particle_transport_equation = density * (parallel_velocity + 2 * gamma) - (gamma + y_norm) / 2\n",
    "    momentum_transport_equation = density * (parallel_velocity**2 + 2 * gamma * parallel_velocity + 1) - (1 - gamma**2)\n",
    "    return [\n",
    "        particle_transport_equation,\n",
    "        momentum_transport_equation,\n",
    "    ]\n",
    "\n",
    "def solve_simple_sol_drift_model(y_norm, gamma, debug=False):\n",
    "    \"\"\"\n",
    "    Numerically solves the coupled solutions to the 1D poloidal particle and momentum transport equations.\n",
    "    y_norm is a normalized poloidal distance coordinate so that y=0 is half-way between X-points, y=-1 is at lower X-point, and y=1 is at upper X-point.\n",
    "    gamma is the normalized drift velocity, given by gamma = drift_velocity / (2 * ion_sound_speed * tan(field_line_pitch_angle)).\n",
    "    Note that the output density is normalized by the max value and the parallel velocity is normalized by the ion sound speed.\n",
    "    \"\"\"\n",
    "    # Numerically solve the system of implicit equations individually at each position\n",
    "    parallel_velocity = np.zeros_like(y_norm)\n",
    "    density = np.zeros_like(y_norm)\n",
    "    solution_found = np.zeros_like(y_norm)\n",
    "    solver_message = []\n",
    "    for i in range(len(y_norm)):\n",
    "        (density[i], parallel_velocity[i]), _, solution_found[i], mesg  = optimize.fsolve(\n",
    "            func=lambda x : transport_equations(x[0], x[1], y_norm[i], gamma),\n",
    "            x0=[1, 0],\n",
    "            full_output=True,\n",
    "        )\n",
    "        solver_message.append(mesg)\n",
    "    # density[solution_found != 1] = np.nan\n",
    "    # parallel_velocity[solution_found != 1] = np.nan\n",
    "    if debug:\n",
    "        print(solver_message)\n",
    "\n",
    "    return density, parallel_velocity"
   ]
  },
  {
   "cell_type": "markdown",
   "id": "ff567169-7d07-48dc-8d4c-e87d722fdb1a",
   "metadata": {},
   "source": [
    "## Use Langmuir probe measurements to estimate model input parameters"
   ]
  },
  {
   "cell_type": "code",
   "execution_count": 13,
   "id": "3c3e5712-345b-4f15-bf4a-2704f7b12b6e",
   "metadata": {},
   "outputs": [
    {
     "name": "stdout",
     "output_type": "stream",
     "text": [
      "density asymmetry: 1.6487\n",
      "gamma: 0.245\n",
      "stagnation point shift: 0.6760\n",
      "ion sound speed: 87.54 km/s\n",
      "drift velocity: 42.88 m/s\n"
     ]
    }
   ],
   "source": [
    "log_density_asymmetry = 0.5\n",
    "electron_temperature = 40 # electron-volts\n",
    "field_line_pitch_angle = 0.001 # radians\n",
    "\n",
    "density_asymmetry = np.exp(log_density_asymmetry)\n",
    "gamma = (density_asymmetry - 1) / (density_asymmetry + 1)\n",
    "stagnation_point_shift = -4 * gamma**3 + 3 * gamma\n",
    "ion_sound_speed = np.sqrt(2 * electron_temperature * constants.e / constants.proton_mass)\n",
    "drift_velocity = gamma * 2 * ion_sound_speed * np.tan(field_line_pitch_angle)\n",
    "\n",
    "print(f'density asymmetry: {density_asymmetry:.4f}')\n",
    "print(f'gamma: {gamma:.3f}')\n",
    "print(f'stagnation point shift: {stagnation_point_shift:.4f}')\n",
    "print(f'ion sound speed: {ion_sound_speed/1000:.2f} km/s')\n",
    "print(f'drift velocity: {drift_velocity:.2f} m/s')"
   ]
  },
  {
   "cell_type": "markdown",
   "id": "f5aecc6e-7abd-4f05-b9b2-3bccd6101439",
   "metadata": {},
   "source": [
    "## Calculate density, parallel flow, and poloidal flow profiles"
   ]
  },
  {
   "cell_type": "code",
   "execution_count": 14,
   "id": "dfd9a68a-ebfe-4126-b95d-041555903ea1",
   "metadata": {},
   "outputs": [],
   "source": [
    "# Input parameters\n",
    "y = np.linspace(-1, 1, num=201) # poloidal distance variable runs from -1 (lower divertor) to +1 (upper divertor)\n",
    "y_xpoint = 0.75 # relative distance of x-points from upstream position to divertors\n",
    "drift_velocity = -62 # meters per second\n",
    "field_line_pitch_angle = 0.001 # radians\n",
    "ion_mass = constants.proton_mass # kilograms\n",
    "temperature = 80 # electron-volts\n",
    "max_density = 1e19 # particles per cubic meter, I use this as an input parameter instead of core particle source since I have more intuition on what numbers are reasonable\n",
    "\n",
    "# Derived parameters\n",
    "y_norm = y / y_xpoint\n",
    "ion_sound_speed = np.sqrt(2 * temperature * constants.e / ion_mass)\n",
    "gamma = drift_velocity / (2 * ion_sound_speed * np.tan(field_line_pitch_angle))\n",
    "\n",
    "# Run calculation\n",
    "density, parallel_velocity = solve_simple_sol_drift_model(y_norm, gamma, debug=False)\n",
    "\n",
    "# Un-normalized outputs\n",
    "density = density * max_density\n",
    "parallel_velocity = parallel_velocity * ion_sound_speed\n",
    "\n",
    "# Calculate poloidal velocity\n",
    "poloidal_velocity = parallel_velocity * np.sin(field_line_pitch_angle) + drift_velocity * np.cos(field_line_pitch_angle)"
   ]
  },
  {
   "cell_type": "markdown",
   "id": "1b53f558-ceb4-4030-a4bf-77bcc45e1bb1",
   "metadata": {},
   "source": [
    "## Plot density and parallel flow profiles"
   ]
  },
  {
   "cell_type": "code",
   "execution_count": 15,
   "id": "3ec6baf5-8adc-4366-bc77-b26e7b005f5f",
   "metadata": {},
   "outputs": [
    {
     "data": {
      "text/plain": [
       "['Solarize_Light2',\n",
       " '_classic_test_patch',\n",
       " '_mpl-gallery',\n",
       " '_mpl-gallery-nogrid',\n",
       " 'bmh',\n",
       " 'classic',\n",
       " 'dark_background',\n",
       " 'fast',\n",
       " 'fivethirtyeight',\n",
       " 'ggplot',\n",
       " 'grayscale',\n",
       " 'seaborn-v0_8',\n",
       " 'seaborn-v0_8-bright',\n",
       " 'seaborn-v0_8-colorblind',\n",
       " 'seaborn-v0_8-dark',\n",
       " 'seaborn-v0_8-dark-palette',\n",
       " 'seaborn-v0_8-darkgrid',\n",
       " 'seaborn-v0_8-deep',\n",
       " 'seaborn-v0_8-muted',\n",
       " 'seaborn-v0_8-notebook',\n",
       " 'seaborn-v0_8-paper',\n",
       " 'seaborn-v0_8-pastel',\n",
       " 'seaborn-v0_8-poster',\n",
       " 'seaborn-v0_8-talk',\n",
       " 'seaborn-v0_8-ticks',\n",
       " 'seaborn-v0_8-white',\n",
       " 'seaborn-v0_8-whitegrid',\n",
       " 'tableau-colorblind10']"
      ]
     },
     "execution_count": 15,
     "metadata": {},
     "output_type": "execute_result"
    }
   ],
   "source": [
    "plt.style.available\n",
    "#plt.style.use('presentation')"
   ]
  },
  {
   "cell_type": "code",
   "execution_count": 16,
   "id": "4efd545a-a732-4859-b9d1-d85d05866ae1",
   "metadata": {},
   "outputs": [
    {
     "name": "stdout",
     "output_type": "stream",
     "text": [
      "1e+19\n",
      "3.7479685863373757e+18\n"
     ]
    },
    {
     "name": "stderr",
     "output_type": "stream",
     "text": [
      "qt.glx: qglx_findConfig: Failed to finding matching FBConfig for QSurfaceFormat(version 2.0, options QFlags<QSurfaceFormat::FormatOption>(), depthBufferSize -1, redBufferSize 1, greenBufferSize 1, blueBufferSize 1, alphaBufferSize -1, stencilBufferSize -1, samples -1, swapBehavior QSurfaceFormat::SingleBuffer, swapInterval 1, colorSpace QSurfaceFormat::DefaultColorSpace, profile  QSurfaceFormat::NoProfile)\n",
      "No XVisualInfo for format QSurfaceFormat(version 2.0, options QFlags<QSurfaceFormat::FormatOption>(), depthBufferSize -1, redBufferSize 1, greenBufferSize 1, blueBufferSize 1, alphaBufferSize -1, stencilBufferSize -1, samples -1, swapBehavior QSurfaceFormat::SingleBuffer, swapInterval 1, colorSpace QSurfaceFormat::DefaultColorSpace, profile  QSurfaceFormat::NoProfile)\n",
      "Falling back to using screens root_visual.\n"
     ]
    }
   ],
   "source": [
    "fig, ax1 = plt.subplots(constrained_layout=True)\n",
    "ax2 = ax1.twinx()\n",
    "# ax1.set_position(pos)\n",
    "# ax2.set_position(pos)\n",
    "ax1.set_xticks([-1, -y_xpoint, 0, y_xpoint, 1])\n",
    "ax1.set_xticklabels(['lower divertor', 'lower X-point', '0', 'upper X-point', 'upper divertor'], minor=False, rotation=60)\n",
    "# ax1.set_xticklabels(['$-y_\\mathrm{div}$', '$-y_\\mathrm{X}$', '0', '$y_\\mathrm{X}$', '$y_\\mathrm{div}$'], minor=False)\n",
    "# ax1.set_xticklabels(['', '', '', '', ''])\n",
    "# ax1.set_xlabel('y')\n",
    "# ax1.set_title(fr'Profiles for $\\gamma = {gamma:.3f}$')\n",
    "\n",
    "ax1.plot(y, parallel_velocity, linestyle='--', color='tab:blue', label=r'$v_\\parallel$')\n",
    "scale_factor = 1 / np.sin(field_line_pitch_angle)\n",
    "ax1.plot(y, scale_factor * poloidal_velocity, linestyle=':', color='tab:blue', label=fr'${scale_factor:.0f} * v_\\theta$')\n",
    "# ax1.axhline(0, linestyle=':', linewidth=1.5)\n",
    "ax1.set_yticks([-ion_sound_speed, 0, ion_sound_speed])\n",
    "ax1.set_yticklabels(['$-c_s$', '0', '$c_s$'], minor=False)\n",
    "ax1.tick_params(axis='y', labelcolor='tab:blue')\n",
    "ax1.set_ylabel(r'Velocity', color='tab:blue')\n",
    "ax1.legend()\n",
    "ax1.grid()\n",
    "\n",
    "ax2.plot(y, density, color='tab:red')\n",
    "ax2.set_ylim(bottom=0)\n",
    "ax2.set_yticks([0, max_density])\n",
    "ax2.set_yticklabels(['0', '$n_\\mathrm{{max}}$'], minor=False)\n",
    "ax2.tick_params(axis='y', labelcolor='tab:red')\n",
    "ax2.set_ylabel('Density', color='tab:red');\n",
    "\n",
    "fig.savefig(f'SimpleDriftModelProfiles_gamma={gamma:.3f}.pdf', dpi=300)\n",
    "print(max_density)\n",
    "print(min(density))\n",
    "np.save(\"Kriete_drifts_density\", density)\n",
    "np.save(\"Kriete_drifts_parallel_velocity\", parallel_velocity)\n",
    "np.save(\"Kriete_drifts_y\", y)"
   ]
  },
  {
   "cell_type": "markdown",
   "id": "3483e91d-2867-4560-9001-b49e34f6f3db",
   "metadata": {},
   "source": [
    "## Calculate profiles between X-points for a scan of $\\gamma$"
   ]
  },
  {
   "cell_type": "code",
   "execution_count": 11,
   "id": "21bbe67d-37b5-4d64-bc1a-717ada214fbd",
   "metadata": {},
   "outputs": [],
   "source": [
    "# Model inputs\n",
    "y_norm = np.linspace(-1, 1, num=201)\n",
    "gamma = np.linspace(-0.5, 0.5, num=21)\n",
    "\n",
    "# Initialize empty arrays to store model outputs\n",
    "shape = (len(gamma), len(y_norm))\n",
    "density_norm = np.zeros(shape)\n",
    "parallel_mach_number = np.zeros(shape)\n",
    "\n",
    "# Calculate profiles for each gamma value\n",
    "for i in range(len(gamma)):\n",
    "    density_norm[i], parallel_mach_number[i] = solve_simple_sol_drift_model(y_norm, gamma[i])\n",
    "\n",
    "# Package results in dataset\n",
    "profiles = xr.Dataset(\n",
    "    data_vars={'density_norm':(('gamma', 'y_norm'), density_norm), 'parallel_mach_number':(('gamma', 'y_norm'), parallel_mach_number)},\n",
    "    coords={'y_norm':y_norm, 'gamma':gamma},\n",
    ")\n",
    "\n",
    "# Test plot of dataset results\n",
    "# fig, ax1 = plt.subplots()\n",
    "# ax2 = ax1.twinx()\n",
    "# profiles.parallel_mach_number.sel(gamma=0.25).plot(ax=ax1)\n",
    "# profiles.density_norm.sel(gamma=-0.25).plot(ax=ax2)\n",
    "# ax2.set_title('')\n",
    "\n",
    "# Save dataset to file\n",
    "profiles.to_netcdf('simple_sol_drift_model_profiles.nc')"
   ]
  },
  {
   "cell_type": "code",
   "execution_count": 12,
   "id": "6eda4a0e-8ade-4c3f-ba34-dac8f79ca13f",
   "metadata": {},
   "outputs": [
    {
     "name": "stderr",
     "output_type": "stream",
     "text": [
      "qt.glx: qglx_findConfig: Failed to finding matching FBConfig for QSurfaceFormat(version 2.0, options QFlags<QSurfaceFormat::FormatOption>(), depthBufferSize -1, redBufferSize 1, greenBufferSize 1, blueBufferSize 1, alphaBufferSize -1, stencilBufferSize -1, samples -1, swapBehavior QSurfaceFormat::SingleBuffer, swapInterval 1, colorSpace QSurfaceFormat::DefaultColorSpace, profile  QSurfaceFormat::NoProfile)\n",
      "No XVisualInfo for format QSurfaceFormat(version 2.0, options QFlags<QSurfaceFormat::FormatOption>(), depthBufferSize -1, redBufferSize 1, greenBufferSize 1, blueBufferSize 1, alphaBufferSize -1, stencilBufferSize -1, samples -1, swapBehavior QSurfaceFormat::SingleBuffer, swapInterval 1, colorSpace QSurfaceFormat::DefaultColorSpace, profile  QSurfaceFormat::NoProfile)\n",
      "Falling back to using screens root_visual.\n"
     ]
    },
    {
     "data": {
      "text/plain": [
       "Text(0.5, 1.0, '')"
      ]
     },
     "execution_count": 12,
     "metadata": {},
     "output_type": "execute_result"
    }
   ],
   "source": [
    "gamma = -0.5\n",
    "fig, ax1 = plt.subplots()\n",
    "ax2 = ax1.twinx()\n",
    "profiles.parallel_mach_number.sel(gamma=gamma).plot(ax=ax1)\n",
    "profiles.density_norm.sel(gamma=gamma).plot(ax=ax2)\n",
    "ax2.set_title('')"
   ]
  },
  {
   "cell_type": "code",
   "execution_count": null,
   "id": "b992900e",
   "metadata": {},
   "outputs": [],
   "source": []
  }
 ],
 "metadata": {
  "kernelspec": {
   "display_name": "base",
   "language": "python",
   "name": "python3"
  },
  "language_info": {
   "codemirror_mode": {
    "name": "ipython",
    "version": 3
   },
   "file_extension": ".py",
   "mimetype": "text/x-python",
   "name": "python",
   "nbconvert_exporter": "python",
   "pygments_lexer": "ipython3",
   "version": "3.10.13"
  }
 },
 "nbformat": 4,
 "nbformat_minor": 5
}
